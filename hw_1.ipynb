{
 "cells": [
  {
   "cell_type": "code",
   "execution_count": 39,
   "metadata": {},
   "outputs": [
    {
     "name": "stdout",
     "output_type": "stream",
     "text": [
      "Вы ввели не натуральное число!\n",
      "Вы ввели не натуральное число!\n",
      "       *\n",
      "      ***\n",
      "     *****\n",
      "    *******\n",
      "   *********\n",
      "  ***********\n",
      " *************\n"
     ]
    }
   ],
   "source": [
    "N = input('Введите натуральное число:')\n",
    "while N.isdigit() != True:\n",
    "    print('Вы ввели не натуральное число!')\n",
    "    N = input('Введите натуральное число:')\n",
    "N = int(N)\n",
    "for i in range(0, N):\n",
    "    print(' ' * (N - i) + '*' * (2 * i + 1))\n",
    "\n"
   ]
  },
  {
   "cell_type": "code",
   "execution_count": 41,
   "metadata": {},
   "outputs": [
    {
     "name": "stdout",
     "output_type": "stream",
     "text": [
      "пятьсот сорок три "
     ]
    }
   ],
   "source": [
    "num_dict = dict()\n",
    "for i in range(1, 999 + 1):\n",
    "    num_dict.update({str(i):''})\n",
    "num_dict.update({'1':'один','2':'два','3':'три','4':'четыре','5':'пять','6':'шесть','7':'семь','8':'восемь','9':'девять','10':'десять','11':'одиннадцать','12':'двенадцать','13':'тринадцать','14':'четырнадцать','15':'пятнадвать','16':'шестнадцать','17':'семьнадцать','18':'восемьнадцать','19':'девятнадцать','20':'двадцать','30':'тридцать','40':'сорок','50':'пятьдесят','60':'шестьдесят','70':'семьдесят','80':'восемьдесят','90':'девяносто','100':'сто','200':'двесте','300':'тристо','400':'четырясто','500':'пятьсот','600':'шестьсот','700':'семьсот','800':'восемьсот','900':'девятьсот'})\n",
    "n = ''\n",
    "while type(n) != int:\n",
    "    n = input('Введите натуральное число:')\n",
    "    try:\n",
    "        n = int(n)\n",
    "    except:\n",
    "        print('Вы ввели не натуральное число!')\n",
    "for i, j in zip(str(n), range(len(str(n))-1, -1, -1)):\n",
    "    print(num_dict[str(int(i) * 10 ** j)], end=' ')"
   ]
  },
  {
   "cell_type": "code",
   "execution_count": 67,
   "metadata": {},
   "outputs": [
    {
     "name": "stdout",
     "output_type": "stream",
     "text": [
      "Вы ввели не натуральное число!\n",
      "Вы ввели не натуральное число!\n",
      "5\n"
     ]
    }
   ],
   "source": [
    "n = input('Введите натуральное число:')\n",
    "while n.isdigit() != True:\n",
    "    print('Вы ввели не натуральное число!')\n",
    "    n = input('Введите натуральное число:')\n",
    "n = int(n)\n",
    "while len(str(n)) > 1:\n",
    "    n = sum([int(i) for i in str(n)])\n",
    "print(n)"
   ]
  },
  {
   "cell_type": "code",
   "execution_count": null,
   "metadata": {},
   "outputs": [],
   "source": []
  }
 ],
 "metadata": {
  "kernelspec": {
   "display_name": "base",
   "language": "python",
   "name": "python3"
  },
  "language_info": {
   "codemirror_mode": {
    "name": "ipython",
    "version": 3
   },
   "file_extension": ".py",
   "mimetype": "text/x-python",
   "name": "python",
   "nbconvert_exporter": "python",
   "pygments_lexer": "ipython3",
   "version": "3.7.13"
  }
 },
 "nbformat": 4,
 "nbformat_minor": 2
}
